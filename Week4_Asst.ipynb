{
 "cells": [
  {
   "cell_type": "code",
   "execution_count": 1,
   "metadata": {},
   "outputs": [],
   "source": [
    "# import Numpy and Pandas\n",
    "import numpy as np\n",
    "import pandas as pd\n",
    "\n",
    "# for reading and displaying images, import imread and matplotlib\n",
    "import matplotlib.pyplot as plt\n",
    "\n",
    "# for creating validation set, import train_test_split; understand how the function works\n",
    "from sklearn.model_selection import train_test_split\n",
    "\n",
    "# for evaluating the model, import accuracy_score from sklearn\n",
    "from sklearn.metrics import accuracy_score\n",
    "\n",
    "# Import necessary PyTorch libraries and modules\n",
    "import torch\n",
    "import torch.nn as nn\n",
    "import torch.nn.functional as F\n",
    "import torch.optim as optim\n",
    "\n",
    "# Import dataset from pytorch vision - Fashion MNIST\n",
    "import torchvision\n",
    "import torchvision.transforms as transforms\n"
   ]
  },
  {
   "cell_type": "code",
   "execution_count": 2,
   "metadata": {},
   "outputs": [],
   "source": [
    "# load dataset and use dataloader to send the data in batches.\n",
    "# Convert data to tensor and normalise it.\n",
    "transform = transforms.Compose(\n",
    "    [transforms.ToTensor(),\n",
    "     transforms.Normalize((0.5), (0.5))])\n",
    "trainset = torchvision.datasets.FashionMNIST(root='./data', train=True,download=True, transform=transform)\n",
    "trainloader = torch.utils.data.DataLoader(trainset, batch_size=4,shuffle=True, num_workers=2)\n",
    "\n",
    "testset = torchvision.datasets.FashionMNIST(root='./data', train=False,download=True, transform=transform)\n",
    "testloader = torch.utils.data.DataLoader(testset, batch_size=4,shuffle=False, num_workers=2)\n",
    "\n",
    "classes = ('T-shirt/top', 'Trouser', 'Pullover', 'Dress','Coat', 'Sandal', 'Shirt', 'Sneaker', 'Bag', 'Ankle-boot')"
   ]
  },
  {
   "cell_type": "code",
   "execution_count": 3,
   "metadata": {},
   "outputs": [
    {
     "name": "stdout",
     "output_type": "stream",
     "text": [
      "Length of training set :  60000\n",
      "Image Size :  torch.Size([1, 28, 28])\n"
     ]
    }
   ],
   "source": [
    "print(\"Length of training set : \",len(trainset))\n",
    "image,label=trainset[0]\n",
    "print(\"Image Size : \",image.size())"
   ]
  },
  {
   "cell_type": "code",
   "execution_count": 4,
   "metadata": {},
   "outputs": [
    {
     "data": {
      "image/png": "[encoded data removed]",
      "text/plain": [
       "<Figure size 432x288 with 1 Axes>"
      ]
     },
     "metadata": {
      "needs_background": "light"
     },
     "output_type": "display_data"
    },
    {
     "name": "stdout",
     "output_type": "stream",
     "text": [
      "Shirt Pullover   Bag Dress\n"
     ]
    }
   ],
   "source": [
    "# Visualise some random images from the datset. Check the shape of tensors to get a better understanding of the dataset.\n",
    "def imshow(img):\n",
    "    img = img / 2 + 0.5     # unnormalize\n",
    "    npimg = img.numpy()\n",
    "    plt.imshow(np.transpose(npimg, (1, 2, 0)))\n",
    "    plt.show()\n",
    "\n",
    "\n",
    "# get some random training images\n",
    "dataiter = iter(trainloader)\n",
    "images, labels = dataiter.next()\n",
    "\n",
    "# show images\n",
    "imshow(torchvision.utils.make_grid(images))\n",
    "# print labels\n",
    "print(' '.join('%5s' % classes[labels[j]] for j in range(4)))"
   ]
  },
  {
   "cell_type": "code",
   "execution_count": 5,
   "metadata": {},
   "outputs": [],
   "source": [
    "# Define the network architecture(model) using a class.\n",
    "# Use conv2d layers, activation function after each such layer, use Batchnorm and Maxpooling. Play with these parameters,\n",
    "# layers and things like kernel size, stride etc and see how it affects your results.\n",
    "# Finally use a linear layer in the end\n",
    "# Define the forward pass\n",
    "class Net(nn.Module):\n",
    "    def __init__(self):\n",
    "        super(Net, self).__init__()\n",
    "        self.conv1 = nn.Conv2d(1, 6, 5)\n",
    "        self.pool = nn.MaxPool2d(2, 2)\n",
    "        self.conv2 = nn.Conv2d(6, 16, 5)\n",
    "        self.fc1 = nn.Linear(256, 4)\n",
    "        self.fc2 = nn.Linear(4,30* 84)\n",
    "        self.fc3 = nn.Linear(30*84, 10)\n",
    "\n",
    "    def forward(self, x):\n",
    "        x = self.pool(F.relu(self.conv1(x)))\n",
    "        x = self.pool(F.relu(self.conv2(x)))\n",
    "        x = x.view(-1, 256)\n",
    "        x = F.relu(self.fc1(x))\n",
    "        x = F.relu(self.fc2(x))\n",
    "        x = self.fc3(x)\n",
    "        return x\n",
    "\n",
    "\n"
   ]
  },
  {
   "cell_type": "code",
   "execution_count": 6,
   "metadata": {},
   "outputs": [],
   "source": [
    "# Define the network architecture(model) using a class.\n",
    "# Use conv2d layers, activation function after each such layer, use Batchnorm and Maxpooling. Play with these parameters,\n",
    "# layers and things like kernel size, stride etc and see how it affects your results.\n",
    "# Finally use a linear layer in the end\n",
    "# Define the forward pass\n",
    "class Net1(nn.Module):\n",
    "    def __init__(self):\n",
    "        super(Net1, self).__init__()\n",
    "        self.conv1 = nn.Conv2d(in_channels=1, out_channels=32, kernel_size=3, padding=1)\n",
    "        self.pool = nn.MaxPool2d(2, 2)\n",
    "        self.conv2 = nn.Conv2d(in_channels=32, out_channels=64, kernel_size=3)\n",
    "        self.fc1 = nn.Linear(in_features=64*6*6, out_features=600)\n",
    "        self.drop = nn.Dropout2d(0.25)\n",
    "        self.fc2 = nn.Linear(in_features=600, out_features=120)\n",
    "        self.fc3 = nn.Linear(in_features=120, out_features=10)\n",
    "\n",
    "    def forward(self, x):\n",
    "        x = self.pool(F.relu(self.conv1(x)))\n",
    "        x = self.pool(F.relu(self.conv2(x)))\n",
    "        x = x.view(x.size(0), -1)\n",
    "        x = F.relu(self.fc1(x))\n",
    "        x = self.drop(x)\n",
    "        x = F.relu(self.fc2(x))\n",
    "        x = self.fc3(x)\n",
    "        return x\n"
   ]
  },
  {
   "cell_type": "markdown",
   "metadata": {},
   "source": [
    "# Below cells are training the model(takes so much time) and are saved in the respective path..Better not to run..Directly move to the testing part."
   ]
  },
  {
   "cell_type": "code",
   "execution_count": 31,
   "metadata": {},
   "outputs": [
    {
     "name": "stdout",
     "output_type": "stream",
     "text": [
      "[1,  2000] CELloss: 1.047\n",
      "[1,  4000] CELloss: 0.584\n",
      "[1,  6000] CELloss: 0.514\n",
      "[1,  8000] CELloss: 0.462\n",
      "[1, 10000] CELloss: 0.426\n",
      "[1, 12000] CELloss: 0.393\n",
      "[1, 14000] CELloss: 0.383\n",
      "[2,  2000] CELloss: 0.342\n",
      "[2,  4000] CELloss: 0.328\n",
      "[2,  6000] CELloss: 0.337\n",
      "[2,  8000] CELloss: 0.316\n",
      "[2, 10000] CELloss: 0.314\n",
      "[2, 12000] CELloss: 0.311\n",
      "[2, 14000] CELloss: 0.305\n",
      "Finished Training\n"
     ]
    }
   ],
   "source": [
    "#************************************ SECOND MODEL *************************************************\n",
    "#******************************SGD as OPTIMIZER && CROSS ENTROPY as LOSS Func********************************\n",
    "# Define training the model\n",
    "net = Net1()\n",
    "# defining the optimizer\n",
    "optimizer = optim.SGD(net.parameters(), lr=0.001, momentum=0.9)\n",
    "# defining the loss function\n",
    "criterion = nn.CrossEntropyLoss()\n",
    "# For each epoch and in each batch:\n",
    "for epoch in range(2):  # loop over the dataset multiple times\n",
    "\n",
    "    running_loss = 0.0\n",
    "    for i, data in enumerate(trainloader, 0):\n",
    "        # get the inputs; data is a list of [inputs, labels]\n",
    "        inputs, labels = data\n",
    "\n",
    "        # clear the gradients\n",
    "        optimizer.zero_grad()\n",
    "\n",
    "        # compute the model output\n",
    "        outputs = net(inputs)\n",
    "        # calculate loss; store and print them if you wish to print and see if the loss is decreasing.\n",
    "        CELloss = criterion(outputs, labels)\n",
    "        # propagate loss backwards\n",
    "        CELloss.backward()\n",
    "        # update model weights\n",
    "        optimizer.step()\n",
    "        # print statistics\n",
    "        running_loss += CELloss.item()\n",
    "        if i % 2000 == 1999:    # print every 2000 mini-batches\n",
    "            print('[%d, %5d] CELloss: %.3f' %\n",
    "                  (epoch + 1, i + 1, running_loss / 2000))\n",
    "            running_loss = 0.0\n",
    "\n",
    "print('Finished Training')"
   ]
  },
  {
   "cell_type": "code",
   "execution_count": 32,
   "metadata": {},
   "outputs": [],
   "source": [
    "#Saving the trained model in the PATH\n",
    "PATH = './SGD_CEL_F-MNIST_net1.pth'\n",
    "torch.save(net.state_dict(), PATH)"
   ]
  },
  {
   "cell_type": "code",
   "execution_count": 33,
   "metadata": {},
   "outputs": [
    {
     "name": "stdout",
     "output_type": "stream",
     "text": [
      "[1,  2000] CELloss: 0.660\n",
      "[1,  4000] CELloss: 0.455\n",
      "[1,  6000] CELloss: 0.399\n",
      "[1,  8000] CELloss: 0.354\n",
      "[1, 10000] CELloss: 0.363\n",
      "[1, 12000] CELloss: 0.319\n",
      "[1, 14000] CELloss: 0.330\n",
      "[2,  2000] CELloss: 0.289\n",
      "[2,  4000] CELloss: 0.294\n",
      "[2,  6000] CELloss: 0.305\n",
      "[2,  8000] CELloss: 0.286\n",
      "[2, 10000] CELloss: 0.284\n",
      "[2, 12000] CELloss: 0.288\n",
      "[2, 14000] CELloss: 0.305\n",
      "Finished Training\n"
     ]
    }
   ],
   "source": [
    "#************************************ SECOND MODEL *************************************************\n",
    "#******************************ADAM as OPTIMIZER && CROSS ENTROPY as LOSS Func********************************\n",
    "# Define training the model\n",
    "net = Net1()\n",
    "# defining the optimizer\n",
    "optimizer = optim.Adam(net.parameters(), lr=0.001)\n",
    "# defining the loss function\n",
    "criterion = nn.CrossEntropyLoss()\n",
    "# For each epoch and in each batch:\n",
    "for epoch in range(2):  # loop over the dataset multiple times\n",
    "\n",
    "    running_loss = 0.0\n",
    "    for i, data in enumerate(trainloader, 0):\n",
    "        # get the inputs; data is a list of [inputs, labels]\n",
    "        inputs, labels = data\n",
    "\n",
    "        # clear the gradients\n",
    "        optimizer.zero_grad()\n",
    "\n",
    "        # compute the model output\n",
    "        outputs = net(inputs)\n",
    "        # calculate loss; store and print them if you wish to print and see if the loss is decreasing.\n",
    "        CELloss = criterion(outputs, labels)\n",
    "        # propagate loss backwards\n",
    "        CELloss.backward()\n",
    "        # update model weights\n",
    "        optimizer.step()\n",
    "        # print statistics\n",
    "        running_loss += CELloss.item()\n",
    "        if i % 2000 == 1999:    # print every 2000 mini-batches\n",
    "            print('[%d, %5d] CELloss: %.3f' %\n",
    "                  (epoch + 1, i + 1, running_loss / 2000))\n",
    "            running_loss = 0.0\n",
    "\n",
    "print('Finished Training')"
   ]
  },
  {
   "cell_type": "code",
   "execution_count": 34,
   "metadata": {},
   "outputs": [],
   "source": [
    "#Saving the trained model in the PATH\n",
    "PATH = './Adam_CEL_F-MNIST_net1.pth'\n",
    "torch.save(net.state_dict(), PATH)"
   ]
  },
  {
   "cell_type": "code",
   "execution_count": 16,
   "metadata": {},
   "outputs": [
    {
     "name": "stdout",
     "output_type": "stream",
     "text": [
      "[1,  2000] CELloss: 1.140\n",
      "[1,  4000] CELloss: 0.681\n",
      "[1,  6000] CELloss: 0.616\n",
      "[1,  8000] CELloss: 0.586\n",
      "[1, 10000] CELloss: 0.544\n",
      "[1, 12000] CELloss: 0.520\n",
      "[1, 14000] CELloss: 0.528\n",
      "[2,  2000] CELloss: 0.491\n",
      "[2,  4000] CELloss: 0.512\n",
      "[2,  6000] CELloss: 0.485\n",
      "[2,  8000] CELloss: 0.495\n",
      "[2, 10000] CELloss: 0.486\n",
      "[2, 12000] CELloss: 0.477\n",
      "[2, 14000] CELloss: 0.487\n",
      "Finished Training\n"
     ]
    }
   ],
   "source": [
    "#******************************SGD as OPTIMIZER && CROSS ENTROPY as LOSS Func********************************\n",
    "# Define training the model\n",
    "net = Net()\n",
    "# defining the optimizer\n",
    "optimizer = optim.SGD(net.parameters(), lr=0.001, momentum=0.9)\n",
    "# defining the loss function\n",
    "criterion = nn.CrossEntropyLoss()\n",
    "# For each epoch and in each batch:\n",
    "for epoch in range(2):  # loop over the dataset multiple times\n",
    "\n",
    "    running_loss = 0.0\n",
    "    for i, data in enumerate(trainloader, 0):\n",
    "        # get the inputs; data is a list of [inputs, labels]\n",
    "        inputs, labels = data\n",
    "\n",
    "        # clear the gradients\n",
    "        optimizer.zero_grad()\n",
    "\n",
    "        # compute the model output\n",
    "        outputs = net(inputs)\n",
    "        # calculate loss; store and print them if you wish to print and see if the loss is decreasing.\n",
    "        CELloss = criterion(outputs, labels)\n",
    "        # propagate loss backwards\n",
    "        CELloss.backward()\n",
    "        # update model weights\n",
    "        optimizer.step()\n",
    "        # print statistics\n",
    "        running_loss += CELloss.item()\n",
    "        if i % 2000 == 1999:    # print every 2000 mini-batches\n",
    "            print('[%d, %5d] CELloss: %.3f' %\n",
    "                  (epoch + 1, i + 1, running_loss / 2000))\n",
    "            running_loss = 0.0\n",
    "\n",
    "print('Finished Training')"
   ]
  },
  {
   "cell_type": "code",
   "execution_count": 17,
   "metadata": {},
   "outputs": [],
   "source": [
    "#Saving the trained model in the PATH\n",
    "PATH = './SGD_CEL_F-MNIST_net.pth'\n",
    "torch.save(net.state_dict(), PATH)"
   ]
  },
  {
   "cell_type": "code",
   "execution_count": 18,
   "metadata": {},
   "outputs": [
    {
     "name": "stdout",
     "output_type": "stream",
     "text": [
      "[1,  2000] CTCloss: 1.138\n",
      "[1,  4000] CTCloss: 0.682\n",
      "[1,  6000] CTCloss: 0.619\n",
      "[1,  8000] CTCloss: 0.579\n",
      "[1, 10000] CTCloss: 0.548\n",
      "[1, 12000] CTCloss: 0.520\n",
      "[1, 14000] CTCloss: 0.516\n",
      "[2,  2000] CTCloss: 0.494\n",
      "[2,  4000] CTCloss: 0.507\n",
      "[2,  6000] CTCloss: 0.494\n",
      "[2,  8000] CTCloss: 0.482\n",
      "[2, 10000] CTCloss: 0.496\n",
      "[2, 12000] CTCloss: 0.471\n",
      "[2, 14000] CTCloss: 0.472\n",
      "Finished Training\n"
     ]
    }
   ],
   "source": [
    "#******************************SGD as OPTIMIZER && Connectionist Temporal Classification as LOSS Func********************************\n",
    "# Define training the model\n",
    "net = Net()\n",
    "# defining the optimizer\n",
    "optimizer = optim.SGD(net.parameters(), lr=0.001, momentum=0.9)\n",
    "# defining the loss function\n",
    "criterian = nn.CTCLoss()\n",
    "# For each epoch and in each batch:\n",
    "for epoch in range(2):  # loop over the dataset multiple times\n",
    "\n",
    "    running_loss = 0.0\n",
    "    for i, data in enumerate(trainloader, 0):\n",
    "        # get the inputs; data is a list of [inputs, labels]\n",
    "        inputs, labels = data\n",
    "\n",
    "        # clear the gradients\n",
    "        optimizer.zero_grad()\n",
    "\n",
    "        # compute the model output\n",
    "        outputs = net(inputs)\n",
    "        # calculate loss; store and print them if you wish to print and see if the loss is decreasing.\n",
    "        CTCloss = criterion(outputs, labels)\n",
    "        # propagate loss backwards\n",
    "        CTCloss.backward()\n",
    "        # update model weights\n",
    "        optimizer.step()\n",
    "        # print statistics\n",
    "        running_loss += CTCloss.item()\n",
    "        if i % 2000 == 1999:    # print every 2000 mini-batches\n",
    "            print('[%d, %5d] CTCloss: %.3f' %\n",
    "                  (epoch + 1, i + 1, running_loss / 2000))\n",
    "            running_loss = 0.0\n",
    "\n",
    "print('Finished Training')"
   ]
  },
  {
   "cell_type": "code",
   "execution_count": 19,
   "metadata": {},
   "outputs": [],
   "source": [
    "#Saving the trained model in the PATH\n",
    "PATH = './SGD_CTC_F-MNIST_net.pth'\n",
    "torch.save(net.state_dict(), PATH)\n"
   ]
  },
  {
   "cell_type": "code",
   "execution_count": 20,
   "metadata": {},
   "outputs": [
    {
     "name": "stdout",
     "output_type": "stream",
     "text": [
      "[1,  2000] CELloss: 1.615\n",
      "[1,  4000] CELloss: 0.825\n",
      "[1,  6000] CELloss: 0.740\n",
      "[1,  8000] CELloss: 0.684\n",
      "[1, 10000] CELloss: 0.657\n",
      "[1, 12000] CELloss: 0.626\n",
      "[1, 14000] CELloss: 0.637\n",
      "[2,  2000] CELloss: 0.608\n",
      "[2,  4000] CELloss: 0.581\n",
      "[2,  6000] CELloss: 0.528\n",
      "[2,  8000] CELloss: 0.534\n",
      "[2, 10000] CELloss: 0.514\n",
      "[2, 12000] CELloss: 0.498\n",
      "[2, 14000] CELloss: 0.517\n",
      "Finished Training\n"
     ]
    }
   ],
   "source": [
    "#******************************ADAM as OPTIMIZER && CROSS ENTROPY as LOSS Func********************************\n",
    "# Define training the model\n",
    "net = Net()\n",
    "# defining the optimizer\n",
    "optimizer = optim.Adam(net.parameters(), lr=0.001)\n",
    "# defining the loss function\n",
    "criterion = nn.CrossEntropyLoss()\n",
    "# For each epoch and in each batch:\n",
    "for epoch in range(2):  # loop over the dataset multiple times\n",
    "\n",
    "    running_loss = 0.0\n",
    "    for i, data in enumerate(trainloader, 0):\n",
    "        # get the inputs; data is a list of [inputs, labels]\n",
    "        inputs, labels = data\n",
    "\n",
    "        # clear the gradients\n",
    "        optimizer.zero_grad()\n",
    "\n",
    "        # compute the model output\n",
    "        outputs = net(inputs)\n",
    "        # calculate loss; store and print them if you wish to print and see if the loss is decreasing.\n",
    "        CELloss = criterion(outputs, labels)\n",
    "        # propagate loss backwards\n",
    "        CELloss.backward()\n",
    "        # update model weights\n",
    "        optimizer.step()\n",
    "        # print statistics\n",
    "        running_loss += CELloss.item()\n",
    "        if i % 2000 == 1999:    # print every 2000 mini-batches\n",
    "            print('[%d, %5d] CELloss: %.3f' %\n",
    "                  (epoch + 1, i + 1, running_loss / 2000))\n",
    "            running_loss = 0.0\n",
    "\n",
    "print('Finished Training')"
   ]
  },
  {
   "cell_type": "code",
   "execution_count": 21,
   "metadata": {},
   "outputs": [],
   "source": [
    "#Saving the trained model in the PATH\n",
    "PATH = './Adam_CEL_F-MNIST_net.pth'\n",
    "torch.save(net.state_dict(), PATH)"
   ]
  },
  {
   "cell_type": "code",
   "execution_count": 22,
   "metadata": {},
   "outputs": [
    {
     "name": "stdout",
     "output_type": "stream",
     "text": [
      "[1,  2000] CTCloss: 0.973\n",
      "[1,  4000] CTCloss: 0.659\n",
      "[1,  6000] CTCloss: 0.601\n",
      "[1,  8000] CTCloss: 0.552\n",
      "[1, 10000] CTCloss: 0.543\n",
      "[1, 12000] CTCloss: 0.548\n",
      "[1, 14000] CTCloss: 0.521\n",
      "[2,  2000] CTCloss: 0.509\n",
      "[2,  4000] CTCloss: 0.475\n",
      "[2,  6000] CTCloss: 0.456\n",
      "[2,  8000] CTCloss: 0.500\n",
      "[2, 10000] CTCloss: 0.465\n",
      "[2, 12000] CTCloss: 0.480\n",
      "[2, 14000] CTCloss: 0.447\n",
      "Finished Training\n"
     ]
    }
   ],
   "source": [
    "#******************************ADAM as OPTIMIZER && Connectionist Temporal Classification as LOSS Func********************************\n",
    "# Define training the model\n",
    "net = Net()\n",
    "# defining the optimizer\n",
    "optimizer = optim.Adam(net.parameters(), lr=0.001)\n",
    "# defining the loss function\n",
    "criterian = nn.CTCLoss()\n",
    "# For each epoch and in each batch:\n",
    "for epoch in range(2):  # loop over the dataset multiple times\n",
    "\n",
    "    running_loss = 0.0\n",
    "    for i, data in enumerate(trainloader, 0):\n",
    "        # get the inputs; data is a list of [inputs, labels]\n",
    "        inputs, labels = data\n",
    "\n",
    "        # clear the gradients\n",
    "        optimizer.zero_grad()\n",
    "\n",
    "        # compute the model output\n",
    "        outputs = net(inputs)\n",
    "        # calculate loss; store and print them if you wish to print and see if the loss is decreasing.\n",
    "        CTCloss = criterion(outputs, labels)\n",
    "        # propagate loss backwards\n",
    "        CTCloss.backward()\n",
    "        # update model weights\n",
    "        optimizer.step()\n",
    "        # print statistics\n",
    "        running_loss += CTCloss.item()\n",
    "        if i % 2000 == 1999:    # print every 2000 mini-batches\n",
    "            print('[%d, %5d] CTCloss: %.3f' %\n",
    "                  (epoch + 1, i + 1, running_loss / 2000))\n",
    "            running_loss = 0.0\n",
    "\n",
    "print('Finished Training')"
   ]
  },
  {
   "cell_type": "code",
   "execution_count": 23,
   "metadata": {},
   "outputs": [],
   "source": [
    "#Saving the trained model in the PATH\n",
    "PATH = './Adam_CTC_F-MNIST_net.pth'\n",
    "torch.save(net.state_dict(), PATH)"
   ]
  },
  {
   "cell_type": "code",
   "execution_count": 37,
   "metadata": {},
   "outputs": [
    {
     "name": "stdout",
     "output_type": "stream",
     "text": [
      "[1,  2000] CELloss: 0.667\n",
      "[1,  4000] CELloss: 0.451\n",
      "[1,  6000] CELloss: 0.391\n",
      "[1,  8000] CELloss: 0.371\n",
      "[1, 10000] CELloss: 0.361\n",
      "[1, 12000] CELloss: 0.330\n",
      "[1, 14000] CELloss: 0.345\n",
      "[2,  2000] CELloss: 0.306\n",
      "[2,  4000] CELloss: 0.293\n",
      "[2,  6000] CELloss: 0.293\n",
      "[2,  8000] CELloss: 0.291\n",
      "[2, 10000] CELloss: 0.283\n",
      "[2, 12000] CELloss: 0.291\n",
      "[2, 14000] CELloss: 0.276\n",
      "[3,  2000] CELloss: 0.261\n",
      "[3,  4000] CELloss: 0.258\n",
      "[3,  6000] CELloss: 0.247\n",
      "[3,  8000] CELloss: 0.260\n",
      "[3, 10000] CELloss: 0.267\n",
      "[3, 12000] CELloss: 0.266\n",
      "[3, 14000] CELloss: 0.259\n",
      "[4,  2000] CELloss: 0.224\n",
      "[4,  4000] CELloss: 0.239\n",
      "[4,  6000] CELloss: 0.258\n",
      "[4,  8000] CELloss: 0.238\n",
      "[4, 10000] CELloss: 0.258\n",
      "[4, 12000] CELloss: 0.243\n",
      "[4, 14000] CELloss: 0.228\n",
      "Finished Training\n"
     ]
    }
   ],
   "source": [
    "#************************************ SECOND MODEL with increase in epochs *************************************************\n",
    "#******************************ADAM as OPTIMIZER && CROSS ENTROPY as LOSS Func********************************\n",
    "# Define training the model\n",
    "net = Net1()\n",
    "# defining the optimizer\n",
    "optimizer = optim.Adam(net.parameters(), lr=0.001)\n",
    "# defining the loss function\n",
    "criterion = nn.CrossEntropyLoss()\n",
    "# For each epoch and in each batch:\n",
    "for epoch in range(4):  # loop over the dataset multiple times\n",
    "\n",
    "    running_loss = 0.0\n",
    "    for i, data in enumerate(trainloader, 0):\n",
    "        # get the inputs; data is a list of [inputs, labels]\n",
    "        inputs, labels = data\n",
    "\n",
    "        # clear the gradients\n",
    "        optimizer.zero_grad()\n",
    "\n",
    "        # compute the model output\n",
    "        outputs = net(inputs)\n",
    "        # calculate loss; store and print them if you wish to print and see if the loss is decreasing.\n",
    "        CELloss = criterion(outputs, labels)\n",
    "        # propagate loss backwards\n",
    "        CELloss.backward()\n",
    "        # update model weights\n",
    "        optimizer.step()\n",
    "        # print statistics\n",
    "        running_loss += CELloss.item()\n",
    "        if i % 2000 == 1999:    # print every 2000 mini-batches\n",
    "            print('[%d, %5d] CELloss: %.3f' %\n",
    "                  (epoch + 1, i + 1, running_loss / 2000))\n",
    "            running_loss = 0.0\n",
    "\n",
    "print('Finished Training')"
   ]
  },
  {
   "cell_type": "code",
   "execution_count": 38,
   "metadata": {},
   "outputs": [],
   "source": [
    "#Saving the trained model in the PATH\n",
    "PATH = './Adam_CEL_F-MNIST_net1_ep4.pth'\n",
    "torch.save(net.state_dict(), PATH)"
   ]
  },
  {
   "cell_type": "markdown",
   "metadata": {},
   "source": [
    "# From here Testing of all the trained model loaded from their path"
   ]
  },
  {
   "cell_type": "code",
   "execution_count": 7,
   "metadata": {},
   "outputs": [
    {
     "name": "stdout",
     "output_type": "stream",
     "text": [
      "******************* SGD AS OPTIMIZER && CROSS ENTROPY AS LOSS FUNC ********************\n",
      "Accuracy of the network on the 10000 test images: 84 %\n",
      "Accuracy(USING SKLEARN) of the network on the 10000 test images: % 84.82\n"
     ]
    }
   ],
   "source": [
    "#******************************SGD as OPTIMIZER && CROSS ENTROPY as LOSS Func********************************\n",
    "PATH = './SGD_CEL_F-MNIST_net.pth'\n",
    "net = Net()\n",
    "net.load_state_dict(torch.load(PATH))  \n",
    "\n",
    "# Evaluate model on test set. This is done in the same way as for training but only till calculating output.\n",
    "correct = 0\n",
    "total = 0\n",
    "prediction=[]\n",
    "Actual=[]\n",
    "with torch.no_grad():\n",
    "    for data in testloader:\n",
    "        images, labels = data\n",
    "        outputs = net(images)\n",
    "        _, predicted = torch.max(outputs.data, 1)\n",
    "        prediction.extend(predicted)\n",
    "        Actual.extend(labels)\n",
    "        total += labels.size(0)\n",
    "        correct += (predicted == labels).sum().item()\n",
    " \n",
    "\n",
    " \n",
    "#Then,convert output from tensor to numpy format.\n",
    "# convert to class labels\n",
    "# store the predictions\n",
    "prediction=np.array(prediction)\n",
    "Actual=np.array(Actual)\n",
    "\n",
    "print(\"******************* SGD AS OPTIMIZER && CROSS ENTROPY AS LOSS FUNC ********************\")\n",
    "print('Accuracy of the network on the 10000 test images: %d %%' % (\n",
    "    100 * correct / total))\n",
    "\n",
    "\n",
    "# calculate accuracy of model\n",
    "print('Accuracy(USING SKLEARN) of the network on the 10000 test images: %' ,100*accuracy_score(Actual,prediction))\n"
   ]
  },
  {
   "cell_type": "code",
   "execution_count": 8,
   "metadata": {},
   "outputs": [
    {
     "name": "stdout",
     "output_type": "stream",
     "text": [
      "******************* SGD AS OPTIMIZER && CTC AS LOSS FUNC ********************\n",
      "Accuracy of the network on the 10000 test images: 84 %\n",
      "Accuracy(USING SKLEARN) of the network on the 10000 test images: % 84.39999999999999\n"
     ]
    }
   ],
   "source": [
    "#******************************SGD as OPTIMIZER && Connectionist Temporal Classification as LOSS Func ********************************\n",
    "PATH = './SGD_CTC_F-MNIST_net.pth'\n",
    "net = Net()\n",
    "net.load_state_dict(torch.load(PATH))  \n",
    "\n",
    "# Evaluate model on test set. This is done in the same way as for training but only till calculating output.\n",
    "correct = 0\n",
    "total = 0\n",
    "prediction=[]\n",
    "Actual=[]\n",
    "with torch.no_grad():\n",
    "    for data in testloader:\n",
    "        images, labels = data\n",
    "        outputs = net(images)\n",
    "        _, predicted = torch.max(outputs.data, 1)\n",
    "        prediction.extend(predicted)\n",
    "        Actual.extend(labels)\n",
    "        total += labels.size(0)\n",
    "        correct += (predicted == labels).sum().item()\n",
    " \n",
    "\n",
    " \n",
    "#Then,convert output from tensor to numpy format.\n",
    "# convert to class labels\n",
    "# store the predictions\n",
    "prediction=np.array(prediction)\n",
    "Actual=np.array(Actual)\n",
    "\n",
    "print(\"******************* SGD AS OPTIMIZER && CTC AS LOSS FUNC ********************\")\n",
    "print('Accuracy of the network on the 10000 test images: %d %%' % (\n",
    "    100 * correct / total))\n",
    "\n",
    "\n",
    "# calculate accuracy of model\n",
    "print('Accuracy(USING SKLEARN) of the network on the 10000 test images: %' ,100*accuracy_score(Actual,prediction))\n"
   ]
  },
  {
   "cell_type": "code",
   "execution_count": 9,
   "metadata": {},
   "outputs": [
    {
     "name": "stdout",
     "output_type": "stream",
     "text": [
      "******************* ADAM AS OPTIMIZER && CROSS ENTROPY AS LOSS FUNC ********************\n",
      "Accuracy of the network on the 10000 test images: 80 %\n",
      "Accuracy(USING SKLEARN) of the network on the 10000 test images: % 80.78999999999999\n"
     ]
    }
   ],
   "source": [
    "#****************************** ADAM as OPTIMIZER && CROSS ENTROPY as LOSS Func********************************\n",
    "PATH = './Adam_CEL_F-MNIST_net.pth'\n",
    "net = Net()\n",
    "net.load_state_dict(torch.load(PATH))  \n",
    "\n",
    "# Evaluate model on test set. This is done in the same way as for training but only till calculating output.\n",
    "correct = 0\n",
    "total = 0\n",
    "prediction=[]\n",
    "Actual=[]\n",
    "with torch.no_grad():\n",
    "    for data in testloader:\n",
    "        images, labels = data\n",
    "        outputs = net(images)\n",
    "        _, predicted = torch.max(outputs.data, 1)\n",
    "        prediction.extend(predicted)\n",
    "        Actual.extend(labels)\n",
    "        total += labels.size(0)\n",
    "        correct += (predicted == labels).sum().item()\n",
    " \n",
    "\n",
    " \n",
    "#Then,convert output from tensor to numpy format.\n",
    "# convert to class labels\n",
    "# store the predictions\n",
    "prediction=np.array(prediction)\n",
    "Actual=np.array(Actual)\n",
    "\n",
    "print(\"******************* ADAM AS OPTIMIZER && CROSS ENTROPY AS LOSS FUNC ********************\")\n",
    "print('Accuracy of the network on the 10000 test images: %d %%' % (\n",
    "    100 * correct / total))\n",
    "\n",
    "\n",
    "# calculate accuracy of model\n",
    "print('Accuracy(USING SKLEARN) of the network on the 10000 test images: %' ,100*accuracy_score(Actual,prediction))\n"
   ]
  },
  {
   "cell_type": "code",
   "execution_count": 10,
   "metadata": {},
   "outputs": [
    {
     "name": "stdout",
     "output_type": "stream",
     "text": [
      "******************* ADAM AS OPTIMIZER && CTC AS LOSS FUNC ********************\n",
      "Accuracy of the network on the 10000 test images: 82 %\n",
      "Accuracy(USING SKLEARN) of the network on the 10000 test images: % 82.37\n"
     ]
    }
   ],
   "source": [
    "#****************************** Adam as OPTIMIZER && Connectionist Temporal Classification as LOSS Func ********************************\n",
    "PATH = './Adam_CTC_F-MNIST_net.pth'\n",
    "net = Net()\n",
    "net.load_state_dict(torch.load(PATH))  \n",
    "\n",
    "# Evaluate model on test set. This is done in the same way as for training but only till calculating output.\n",
    "correct = 0\n",
    "total = 0\n",
    "prediction=[]\n",
    "Actual=[]\n",
    "with torch.no_grad():\n",
    "    for data in testloader:\n",
    "        images, labels = data\n",
    "        outputs = net(images)\n",
    "        _, predicted = torch.max(outputs.data, 1)\n",
    "        prediction.extend(predicted)\n",
    "        Actual.extend(labels)\n",
    "        total += labels.size(0)\n",
    "        correct += (predicted == labels).sum().item()\n",
    " \n",
    "\n",
    " \n",
    "#Then,convert output from tensor to numpy format.\n",
    "# convert to class labels\n",
    "# store the predictions\n",
    "prediction=np.array(prediction)\n",
    "Actual=np.array(Actual)\n",
    "\n",
    "print(\"******************* ADAM AS OPTIMIZER && CTC AS LOSS FUNC ********************\")\n",
    "print('Accuracy of the network on the 10000 test images: %d %%' % (\n",
    "    100 * correct / total))\n",
    "\n",
    "\n",
    "# calculate accuracy of model\n",
    "print('Accuracy(USING SKLEARN) of the network on the 10000 test images: %' ,100*accuracy_score(Actual,prediction))\n"
   ]
  },
  {
   "cell_type": "code",
   "execution_count": 11,
   "metadata": {},
   "outputs": [
    {
     "name": "stdout",
     "output_type": "stream",
     "text": [
      "******************************** SECOND MODEL *****************************************\n",
      "******************* SGD AS OPTIMIZER && CROSS ENTROPY AS LOSS FUNC ********************\n",
      "Accuracy of the network on the 10000 test images: 88 %\n",
      "Accuracy(USING SKLEARN) of the network on the 10000 test images: % 88.82\n"
     ]
    }
   ],
   "source": [
    "#***************************************** SECOND MODEL ********************************************\n",
    "#******************************SGD as OPTIMIZER && CROSS ENTROPY as LOSS Func********************************\n",
    "PATH = './SGD_CEL_F-MNIST_net1.pth'\n",
    "net = Net1()\n",
    "net.load_state_dict(torch.load(PATH))  \n",
    "\n",
    "# Evaluate model on test set. This is done in the same way as for training but only till calculating output.\n",
    "correct = 0\n",
    "total = 0\n",
    "prediction=[]\n",
    "Actual=[]\n",
    "with torch.no_grad():\n",
    "    for data in testloader:\n",
    "        images, labels = data\n",
    "        outputs = net(images)\n",
    "        _, predicted = torch.max(outputs.data, 1)\n",
    "        prediction.extend(predicted)\n",
    "        Actual.extend(labels)\n",
    "        total += labels.size(0)\n",
    "        correct += (predicted == labels).sum().item()\n",
    " \n",
    "\n",
    " \n",
    "#Then,convert output from tensor to numpy format.\n",
    "# convert to class labels\n",
    "# store the predictions\n",
    "prediction=np.array(prediction)\n",
    "Actual=np.array(Actual)\n",
    "print(\"******************************** SECOND MODEL *****************************************\")\n",
    "\n",
    "print(\"******************* SGD AS OPTIMIZER && CROSS ENTROPY AS LOSS FUNC ********************\")\n",
    "print('Accuracy of the network on the 10000 test images: %d %%' % (\n",
    "    100 * correct / total))\n",
    "\n",
    "\n",
    "# calculate accuracy of model\n",
    "print('Accuracy(USING SKLEARN) of the network on the 10000 test images: %' ,100*accuracy_score(Actual,prediction))\n"
   ]
  },
  {
   "cell_type": "code",
   "execution_count": 12,
   "metadata": {},
   "outputs": [
    {
     "name": "stdout",
     "output_type": "stream",
     "text": [
      "****************************** SECOND MODEL **********************************\n",
      "******************* ADAM AS OPTIMIZER && CEL AS LOSS FUNC ********************\n",
      "Accuracy of the network on the 10000 test images: 89 %\n",
      "Accuracy(USING SKLEARN) of the network on the 10000 test images: % 89.48\n"
     ]
    }
   ],
   "source": [
    "#***************************************** SECOND MODEL ********************************************\n",
    "#****************************** Adam as OPTIMIZER && Cross Entropy as LOSS Func ********************************\n",
    "PATH = './Adam_CEL_F-MNIST_net1.pth'\n",
    "net = Net1()\n",
    "net.load_state_dict(torch.load(PATH))  \n",
    "\n",
    "# Evaluate model on test set. This is done in the same way as for training but only till calculating output.\n",
    "correct = 0\n",
    "total = 0\n",
    "prediction=[]\n",
    "Actual=[]\n",
    "with torch.no_grad():\n",
    "    for data in testloader:\n",
    "        images, labels = data\n",
    "        outputs = net(images)\n",
    "        _, predicted = torch.max(outputs.data, 1)\n",
    "        prediction.extend(predicted)\n",
    "        Actual.extend(labels)\n",
    "        total += labels.size(0)\n",
    "        correct += (predicted == labels).sum().item()\n",
    " \n",
    "\n",
    " \n",
    "#Then,convert output from tensor to numpy format.\n",
    "# convert to class labels\n",
    "# store the predictions\n",
    "prediction=np.array(prediction)\n",
    "Actual=np.array(Actual)\n",
    "\n",
    "print(\"****************************** SECOND MODEL **********************************\")\n",
    "\n",
    "print(\"******************* ADAM AS OPTIMIZER && CEL AS LOSS FUNC ********************\")\n",
    "print('Accuracy of the network on the 10000 test images: %d %%' % (\n",
    "    100 * correct / total))\n",
    "\n",
    "\n",
    "# calculate accuracy of model\n",
    "print('Accuracy(USING SKLEARN) of the network on the 10000 test images: %' ,100*accuracy_score(Actual,prediction))\n"
   ]
  },
  {
   "cell_type": "code",
   "execution_count": 13,
   "metadata": {},
   "outputs": [
    {
     "name": "stdout",
     "output_type": "stream",
     "text": [
      "****************************** SECOND MODEL **********************************\n",
      "******************* ADAM AS OPTIMIZER && CEL AS LOSS FUNC ********************\n",
      "Accuracy of the network on the 10000 test images: 89 %\n",
      "Accuracy(USING SKLEARN) of the network on the 10000 test images: % 89.92\n"
     ]
    }
   ],
   "source": [
    "#***************************************** SECOND MODEL ********************************************\n",
    "#****************************** Adam as OPTIMIZER && Cross Entropy as LOSS Func ********************************\n",
    "PATH = './Adam_CEL_F-MNIST_net1_ep4.pth'\n",
    "net = Net1()\n",
    "net.load_state_dict(torch.load(PATH))  \n",
    "\n",
    "# Evaluate model on test set. This is done in the same way as for training but only till calculating output.\n",
    "correct = 0\n",
    "total = 0\n",
    "prediction=[]\n",
    "Actual=[]\n",
    "with torch.no_grad():\n",
    "    for data in testloader:\n",
    "        images, labels = data\n",
    "        outputs = net(images)\n",
    "        _, predicted = torch.max(outputs.data, 1)\n",
    "        prediction.extend(predicted)\n",
    "        Actual.extend(labels)\n",
    "        total += labels.size(0)\n",
    "        correct += (predicted == labels).sum().item()\n",
    " \n",
    "\n",
    " \n",
    "#Then,convert output from tensor to numpy format.\n",
    "# convert to class labels\n",
    "# store the predictions\n",
    "prediction=np.array(prediction)\n",
    "Actual=np.array(Actual)\n",
    "\n",
    "print(\"****************************** SECOND MODEL **********************************\")\n",
    "\n",
    "print(\"******************* ADAM AS OPTIMIZER && CEL AS LOSS FUNC ********************\")\n",
    "print('Accuracy of the network on the 10000 test images: %d %%' % (\n",
    "    100 * correct / total))\n",
    "\n",
    "\n",
    "# calculate accuracy of model\n",
    "print('Accuracy(USING SKLEARN) of the network on the 10000 test images: %' ,100*accuracy_score(Actual,prediction))\n"
   ]
  },
  {
   "cell_type": "markdown",
   "metadata": {},
   "source": [
    "  \n",
    "  Try to improve accuracy by changing parameters, optimizer, loss functions, epochs etc\n",
    "  and explain your observations in a text file in the Github repository.\n",
    "  "
   ]
  },
  {
   "cell_type": "code",
   "execution_count": 14,
   "metadata": {},
   "outputs": [
    {
     "data": {
      "image/png": "[encoded data removed]",
      "text/plain": [
       "<Figure size 432x288 with 1 Axes>"
      ]
     },
     "metadata": {
      "needs_background": "light"
     },
     "output_type": "display_data"
    },
    {
     "name": "stdout",
     "output_type": "stream",
     "text": [
      "GroundTruth:  Ankle-boot Pullover Trouser Trouser\n",
      "Predicted:  Ankle-boot Pullover Trouser Trouser\n"
     ]
    }
   ],
   "source": [
    "# check predictions by printing the output image for random test inputs.\n",
    "dataiter = iter(testloader)\n",
    "images, labels = dataiter.next()\n",
    "\n",
    "# print images\n",
    "imshow(torchvision.utils.make_grid(images))\n",
    "print('GroundTruth: ', ' '.join('%5s' % classes[labels[j]] for j in range(4)))\n",
    "\n",
    "outputs=net(images)\n",
    "_, predicted = torch.max(outputs, 1)\n",
    "\n",
    "print('Predicted: ', ' '.join('%5s' % classes[predicted[j]] for j in range(4)))\n",
    "        "
   ]
  },
  {
   "cell_type": "code",
   "execution_count": null,
   "metadata": {},
   "outputs": [],
   "source": []
  }
 ],
 "metadata": {
  "kernelspec": {
   "display_name": "Python 3",
   "language": "python",
   "name": "python3"
  },
  "language_info": {
   "codemirror_mode": {
    "name": "ipython",
    "version": 3
   },
   "file_extension": ".py",
   "mimetype": "text/x-python",
   "name": "python",
   "nbconvert_exporter": "python",
   "pygments_lexer": "ipython3",
   "version": "3.7.6"
  }
 },
 "nbformat": 4,
 "nbformat_minor": 2
}
